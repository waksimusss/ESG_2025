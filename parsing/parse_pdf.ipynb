{
 "cells": [
  {
   "metadata": {},
   "cell_type": "code",
   "outputs": [],
   "execution_count": null,
   "source": "!pip install pandas pdfplumber tqdm",
   "id": "f808de5070349aec"
  },
  {
   "cell_type": "code",
   "id": "initial_id",
   "metadata": {
    "collapsed": true,
    "ExecuteTime": {
     "end_time": "2025-03-19T13:51:10.831354Z",
     "start_time": "2025-03-19T13:51:10.329216Z"
    }
   },
   "source": [
    "import os\n",
    "import pdfplumber\n",
    "import pandas as pd\n",
    "from tqdm import tqdm\n",
    "import math\n",
    "\n",
    "\n",
    "def extract_text_from_pdf(pdf_path):\n",
    "    text = []\n",
    "    try:\n",
    "        with pdfplumber.open(pdf_path) as pdf:\n",
    "            for page in pdf.pages:\n",
    "                page_text = page.extract_text()\n",
    "                if page_text:\n",
    "                    text.append(page_text)\n",
    "        return \"\\n\".join(text)\n",
    "    except Exception as e:\n",
    "        print(f\"Ошибка при обработке {pdf_path}: {e}\")\n",
    "        return \"\"\n",
    "\n",
    "\n",
    "def process_pdfs_in_folder(folder_path):\n",
    "    pdf_files = [f for f in os.listdir(folder_path) if f.endswith(\".pdf\")]\n",
    "    total_files = len(pdf_files)\n",
    "    chunk_size = math.ceil(total_files / 4)\n",
    "\n",
    "    for stage in range(4):\n",
    "        start_idx = stage * chunk_size\n",
    "        end_idx = min((stage + 1) * chunk_size, total_files)\n",
    "        chunk_files = pdf_files[start_idx:end_idx]\n",
    "        data = []\n",
    "\n",
    "        print(f\"Этап {stage + 1}: обработка файлов {start_idx + 1}-{end_idx} из {total_files}\")\n",
    "\n",
    "        for filename in tqdm(chunk_files, desc=f\"Этап {stage + 1}\", unit=\"файл\"):\n",
    "            file_path = os.path.join(folder_path, filename)\n",
    "            full_text = extract_text_from_pdf(file_path)\n",
    "            data.append([filename, full_text])\n",
    "\n",
    "        stage_output_csv = output_csv.replace(\".csv\", f\"_stage{stage + 1}.csv\")\n",
    "        df = pd.DataFrame(data, columns=[\"Название файла\", \"Текст\"])\n",
    "        df.to_csv(stage_output_csv, index=False, encoding='utf-8')\n",
    "        print(f\"Этап {stage + 1} завершен. Результат сохранен в {stage_output_csv}\")\n",
    "\n"
   ],
   "outputs": [],
   "execution_count": 2
  },
  {
   "metadata": {
    "ExecuteTime": {
     "end_time": "2025-03-16T15:02:41.504115Z",
     "start_time": "2025-03-16T15:02:37.419806Z"
    }
   },
   "cell_type": "code",
   "source": [
    "folder_path = \"../reports\"\n",
    "output_csv = \"результат.csv\"\n",
    "process_pdfs_in_folder(folder_path)"
   ],
   "id": "43427dd242e53322",
   "outputs": [
    {
     "name": "stdout",
     "output_type": "stream",
     "text": [
      "Этап 1: обработка файлов 1-367 из 1467\n"
     ]
    },
    {
     "name": "stderr",
     "output_type": "stream",
     "text": [
      "Этап 1:   0%|          | 1/367 [00:03<22:45,  3.73s/файл]\n"
     ]
    },
    {
     "ename": "KeyboardInterrupt",
     "evalue": "",
     "output_type": "error",
     "traceback": [
      "\u001B[31m---------------------------------------------------------------------------\u001B[39m",
      "\u001B[31mKeyboardInterrupt\u001B[39m                         Traceback (most recent call last)",
      "\u001B[36mCell\u001B[39m\u001B[36m \u001B[39m\u001B[32mIn[5]\u001B[39m\u001B[32m, line 4\u001B[39m\n\u001B[32m      2\u001B[39m folder_path = \u001B[33m\"\u001B[39m\u001B[33m../reports\u001B[39m\u001B[33m\"\u001B[39m\n\u001B[32m      3\u001B[39m output_csv = \u001B[33m\"\u001B[39m\u001B[33mрезультат.csv\u001B[39m\u001B[33m\"\u001B[39m\n\u001B[32m----> \u001B[39m\u001B[32m4\u001B[39m \u001B[43mprocess_pdfs_in_folder\u001B[49m\u001B[43m(\u001B[49m\u001B[43mfolder_path\u001B[49m\u001B[43m)\u001B[49m\n",
      "\u001B[36mCell\u001B[39m\u001B[36m \u001B[39m\u001B[32mIn[4]\u001B[39m\u001B[32m, line 39\u001B[39m, in \u001B[36mprocess_pdfs_in_folder\u001B[39m\u001B[34m(folder_path)\u001B[39m\n\u001B[32m     37\u001B[39m \u001B[38;5;28;01mfor\u001B[39;00m filename \u001B[38;5;129;01min\u001B[39;00m tqdm(chunk_files, desc=\u001B[33mf\u001B[39m\u001B[33m\"\u001B[39m\u001B[33mЭтап \u001B[39m\u001B[38;5;132;01m{\u001B[39;00mstage\u001B[38;5;250m \u001B[39m+\u001B[38;5;250m \u001B[39m\u001B[32m1\u001B[39m\u001B[38;5;132;01m}\u001B[39;00m\u001B[33m\"\u001B[39m, unit=\u001B[33m\"\u001B[39m\u001B[33mфайл\u001B[39m\u001B[33m\"\u001B[39m):\n\u001B[32m     38\u001B[39m     file_path = os.path.join(folder_path, filename)\n\u001B[32m---> \u001B[39m\u001B[32m39\u001B[39m     full_text = \u001B[43mextract_text_from_pdf\u001B[49m\u001B[43m(\u001B[49m\u001B[43mfile_path\u001B[49m\u001B[43m)\u001B[49m\n\u001B[32m     40\u001B[39m     data.append([filename, full_text])\n\u001B[32m     42\u001B[39m \u001B[38;5;66;03m# Сохранение данных текущего этапа\u001B[39;00m\n",
      "\u001B[36mCell\u001B[39m\u001B[36m \u001B[39m\u001B[32mIn[4]\u001B[39m\u001B[32m, line 14\u001B[39m, in \u001B[36mextract_text_from_pdf\u001B[39m\u001B[34m(pdf_path)\u001B[39m\n\u001B[32m     12\u001B[39m \u001B[38;5;28;01mwith\u001B[39;00m pdfplumber.open(pdf_path) \u001B[38;5;28;01mas\u001B[39;00m pdf:\n\u001B[32m     13\u001B[39m     \u001B[38;5;28;01mfor\u001B[39;00m page \u001B[38;5;129;01min\u001B[39;00m pdf.pages:\n\u001B[32m---> \u001B[39m\u001B[32m14\u001B[39m         page_text = \u001B[43mpage\u001B[49m\u001B[43m.\u001B[49m\u001B[43mextract_text\u001B[49m\u001B[43m(\u001B[49m\u001B[43m)\u001B[49m\n\u001B[32m     15\u001B[39m         \u001B[38;5;28;01mif\u001B[39;00m page_text:\n\u001B[32m     16\u001B[39m             text.append(page_text)\n",
      "\u001B[36mFile \u001B[39m\u001B[32m~\\miniconda3\\envs\\ESG_2025\\Lib\\site-packages\\pdfplumber\\page.py:548\u001B[39m, in \u001B[36mPage.extract_text\u001B[39m\u001B[34m(self, **kwargs)\u001B[39m\n\u001B[32m    547\u001B[39m \u001B[38;5;28;01mdef\u001B[39;00m\u001B[38;5;250m \u001B[39m\u001B[34mextract_text\u001B[39m(\u001B[38;5;28mself\u001B[39m, **kwargs: Any) -> \u001B[38;5;28mstr\u001B[39m:\n\u001B[32m--> \u001B[39m\u001B[32m548\u001B[39m     \u001B[38;5;28;01mreturn\u001B[39;00m \u001B[38;5;28;43mself\u001B[39;49m\u001B[43m.\u001B[49m\u001B[43mget_textmap\u001B[49m\u001B[43m(\u001B[49m\u001B[43m*\u001B[49m\u001B[43m*\u001B[49m\u001B[43mtuplify_list_kwargs\u001B[49m\u001B[43m(\u001B[49m\u001B[43mkwargs\u001B[49m\u001B[43m)\u001B[49m\u001B[43m)\u001B[49m.as_string\n",
      "\u001B[36mFile \u001B[39m\u001B[32m~\\miniconda3\\envs\\ESG_2025\\Lib\\site-packages\\pdfplumber\\page.py:525\u001B[39m, in \u001B[36mPage._get_textmap\u001B[39m\u001B[34m(self, **kwargs)\u001B[39m\n\u001B[32m    523\u001B[39m     defaults.update({\u001B[33m\"\u001B[39m\u001B[33mlayout_height\u001B[39m\u001B[33m\"\u001B[39m: \u001B[38;5;28mself\u001B[39m.height})\n\u001B[32m    524\u001B[39m full_kwargs: Dict[\u001B[38;5;28mstr\u001B[39m, Any] = {**defaults, **kwargs}\n\u001B[32m--> \u001B[39m\u001B[32m525\u001B[39m \u001B[38;5;28;01mreturn\u001B[39;00m utils.chars_to_textmap(\u001B[38;5;28;43mself\u001B[39;49m\u001B[43m.\u001B[49m\u001B[43mchars\u001B[49m, **full_kwargs)\n",
      "\u001B[36mFile \u001B[39m\u001B[32m~\\miniconda3\\envs\\ESG_2025\\Lib\\site-packages\\pdfplumber\\container.py:52\u001B[39m, in \u001B[36mContainer.chars\u001B[39m\u001B[34m(self)\u001B[39m\n\u001B[32m     50\u001B[39m \u001B[38;5;129m@property\u001B[39m\n\u001B[32m     51\u001B[39m \u001B[38;5;28;01mdef\u001B[39;00m\u001B[38;5;250m \u001B[39m\u001B[34mchars\u001B[39m(\u001B[38;5;28mself\u001B[39m) -> T_obj_list:\n\u001B[32m---> \u001B[39m\u001B[32m52\u001B[39m     \u001B[38;5;28;01mreturn\u001B[39;00m \u001B[38;5;28;43mself\u001B[39;49m\u001B[43m.\u001B[49m\u001B[43mobjects\u001B[49m.get(\u001B[33m\"\u001B[39m\u001B[33mchar\u001B[39m\u001B[33m\"\u001B[39m, [])\n",
      "\u001B[36mFile \u001B[39m\u001B[32m~\\miniconda3\\envs\\ESG_2025\\Lib\\site-packages\\pdfplumber\\page.py:357\u001B[39m, in \u001B[36mPage.objects\u001B[39m\u001B[34m(self)\u001B[39m\n\u001B[32m    355\u001B[39m \u001B[38;5;28;01mif\u001B[39;00m \u001B[38;5;28mhasattr\u001B[39m(\u001B[38;5;28mself\u001B[39m, \u001B[33m\"\u001B[39m\u001B[33m_objects\u001B[39m\u001B[33m\"\u001B[39m):\n\u001B[32m    356\u001B[39m     \u001B[38;5;28;01mreturn\u001B[39;00m \u001B[38;5;28mself\u001B[39m._objects\n\u001B[32m--> \u001B[39m\u001B[32m357\u001B[39m \u001B[38;5;28mself\u001B[39m._objects: Dict[\u001B[38;5;28mstr\u001B[39m, T_obj_list] = \u001B[38;5;28;43mself\u001B[39;49m\u001B[43m.\u001B[49m\u001B[43mparse_objects\u001B[49m\u001B[43m(\u001B[49m\u001B[43m)\u001B[49m\n\u001B[32m    358\u001B[39m \u001B[38;5;28;01mreturn\u001B[39;00m \u001B[38;5;28mself\u001B[39m._objects\n",
      "\u001B[36mFile \u001B[39m\u001B[32m~\\miniconda3\\envs\\ESG_2025\\Lib\\site-packages\\pdfplumber\\page.py:461\u001B[39m, in \u001B[36mPage.parse_objects\u001B[39m\u001B[34m(self)\u001B[39m\n\u001B[32m    459\u001B[39m \u001B[38;5;28;01mdef\u001B[39;00m\u001B[38;5;250m \u001B[39m\u001B[34mparse_objects\u001B[39m(\u001B[38;5;28mself\u001B[39m) -> Dict[\u001B[38;5;28mstr\u001B[39m, T_obj_list]:\n\u001B[32m    460\u001B[39m     objects: Dict[\u001B[38;5;28mstr\u001B[39m, T_obj_list] = {}\n\u001B[32m--> \u001B[39m\u001B[32m461\u001B[39m     \u001B[38;5;28;01mfor\u001B[39;00m obj \u001B[38;5;129;01min\u001B[39;00m \u001B[38;5;28mself\u001B[39m.iter_layout_objects(\u001B[38;5;28;43mself\u001B[39;49m\u001B[43m.\u001B[49m\u001B[43mlayout\u001B[49m._objs):\n\u001B[32m    462\u001B[39m         kind = obj[\u001B[33m\"\u001B[39m\u001B[33mobject_type\u001B[39m\u001B[33m\"\u001B[39m]\n\u001B[32m    463\u001B[39m         \u001B[38;5;28;01mif\u001B[39;00m kind \u001B[38;5;129;01min\u001B[39;00m [\u001B[33m\"\u001B[39m\u001B[33manno\u001B[39m\u001B[33m\"\u001B[39m]:\n",
      "\u001B[36mFile \u001B[39m\u001B[32m~\\miniconda3\\envs\\ESG_2025\\Lib\\site-packages\\pdfplumber\\page.py:279\u001B[39m, in \u001B[36mPage.layout\u001B[39m\u001B[34m(self)\u001B[39m\n\u001B[32m    273\u001B[39m device = PDFPageAggregatorWithMarkedContent(\n\u001B[32m    274\u001B[39m     \u001B[38;5;28mself\u001B[39m.pdf.rsrcmgr,\n\u001B[32m    275\u001B[39m     pageno=\u001B[38;5;28mself\u001B[39m.page_number,\n\u001B[32m    276\u001B[39m     laparams=\u001B[38;5;28mself\u001B[39m.pdf.laparams,\n\u001B[32m    277\u001B[39m )\n\u001B[32m    278\u001B[39m interpreter = PDFPageInterpreter(\u001B[38;5;28mself\u001B[39m.pdf.rsrcmgr, device)\n\u001B[32m--> \u001B[39m\u001B[32m279\u001B[39m \u001B[43minterpreter\u001B[49m\u001B[43m.\u001B[49m\u001B[43mprocess_page\u001B[49m\u001B[43m(\u001B[49m\u001B[38;5;28;43mself\u001B[39;49m\u001B[43m.\u001B[49m\u001B[43mpage_obj\u001B[49m\u001B[43m)\u001B[49m\n\u001B[32m    280\u001B[39m \u001B[38;5;28mself\u001B[39m._layout: LTPage = device.get_result()\n\u001B[32m    281\u001B[39m \u001B[38;5;28;01mreturn\u001B[39;00m \u001B[38;5;28mself\u001B[39m._layout\n",
      "\u001B[36mFile \u001B[39m\u001B[32m~\\miniconda3\\envs\\ESG_2025\\Lib\\site-packages\\pdfminer\\pdfinterp.py:997\u001B[39m, in \u001B[36mPDFPageInterpreter.process_page\u001B[39m\u001B[34m(self, page)\u001B[39m\n\u001B[32m    995\u001B[39m     ctm = (\u001B[32m1\u001B[39m, \u001B[32m0\u001B[39m, \u001B[32m0\u001B[39m, \u001B[32m1\u001B[39m, -x0, -y0)\n\u001B[32m    996\u001B[39m \u001B[38;5;28mself\u001B[39m.device.begin_page(page, ctm)\n\u001B[32m--> \u001B[39m\u001B[32m997\u001B[39m \u001B[38;5;28;43mself\u001B[39;49m\u001B[43m.\u001B[49m\u001B[43mrender_contents\u001B[49m\u001B[43m(\u001B[49m\u001B[43mpage\u001B[49m\u001B[43m.\u001B[49m\u001B[43mresources\u001B[49m\u001B[43m,\u001B[49m\u001B[43m \u001B[49m\u001B[43mpage\u001B[49m\u001B[43m.\u001B[49m\u001B[43mcontents\u001B[49m\u001B[43m,\u001B[49m\u001B[43m \u001B[49m\u001B[43mctm\u001B[49m\u001B[43m=\u001B[49m\u001B[43mctm\u001B[49m\u001B[43m)\u001B[49m\n\u001B[32m    998\u001B[39m \u001B[38;5;28mself\u001B[39m.device.end_page(page)\n\u001B[32m    999\u001B[39m \u001B[38;5;28;01mreturn\u001B[39;00m\n",
      "\u001B[36mFile \u001B[39m\u001B[32m~\\miniconda3\\envs\\ESG_2025\\Lib\\site-packages\\pdfminer\\pdfinterp.py:1016\u001B[39m, in \u001B[36mPDFPageInterpreter.render_contents\u001B[39m\u001B[34m(self, resources, streams, ctm)\u001B[39m\n\u001B[32m   1014\u001B[39m \u001B[38;5;28mself\u001B[39m.init_resources(resources)\n\u001B[32m   1015\u001B[39m \u001B[38;5;28mself\u001B[39m.init_state(ctm)\n\u001B[32m-> \u001B[39m\u001B[32m1016\u001B[39m \u001B[38;5;28;43mself\u001B[39;49m\u001B[43m.\u001B[49m\u001B[43mexecute\u001B[49m\u001B[43m(\u001B[49m\u001B[43mlist_value\u001B[49m\u001B[43m(\u001B[49m\u001B[43mstreams\u001B[49m\u001B[43m)\u001B[49m\u001B[43m)\u001B[49m\n\u001B[32m   1017\u001B[39m \u001B[38;5;28;01mreturn\u001B[39;00m\n",
      "\u001B[36mFile \u001B[39m\u001B[32m~\\miniconda3\\envs\\ESG_2025\\Lib\\site-packages\\pdfminer\\pdfinterp.py:1042\u001B[39m, in \u001B[36mPDFPageInterpreter.execute\u001B[39m\u001B[34m(self, streams)\u001B[39m\n\u001B[32m   1040\u001B[39m     log.debug(\u001B[33m\"\u001B[39m\u001B[33mexec: \u001B[39m\u001B[38;5;132;01m%s\u001B[39;00m\u001B[33m \u001B[39m\u001B[38;5;132;01m%r\u001B[39;00m\u001B[33m\"\u001B[39m, name, args)\n\u001B[32m   1041\u001B[39m     \u001B[38;5;28;01mif\u001B[39;00m \u001B[38;5;28mlen\u001B[39m(args) == nargs:\n\u001B[32m-> \u001B[39m\u001B[32m1042\u001B[39m         \u001B[43mfunc\u001B[49m\u001B[43m(\u001B[49m\u001B[43m*\u001B[49m\u001B[43margs\u001B[49m\u001B[43m)\u001B[49m\n\u001B[32m   1043\u001B[39m \u001B[38;5;28;01melse\u001B[39;00m:\n\u001B[32m   1044\u001B[39m     log.debug(\u001B[33m\"\u001B[39m\u001B[33mexec: \u001B[39m\u001B[38;5;132;01m%s\u001B[39;00m\u001B[33m\"\u001B[39m, name)\n",
      "\u001B[36mFile \u001B[39m\u001B[32m~\\miniconda3\\envs\\ESG_2025\\Lib\\site-packages\\pdfminer\\pdfinterp.py:909\u001B[39m, in \u001B[36mPDFPageInterpreter.do_Tj\u001B[39m\u001B[34m(self, s)\u001B[39m\n\u001B[32m    907\u001B[39m \u001B[38;5;28;01mdef\u001B[39;00m\u001B[38;5;250m \u001B[39m\u001B[34mdo_Tj\u001B[39m(\u001B[38;5;28mself\u001B[39m, s: PDFStackT) -> \u001B[38;5;28;01mNone\u001B[39;00m:\n\u001B[32m    908\u001B[39m \u001B[38;5;250m    \u001B[39m\u001B[33;03m\"\"\"Show text\"\"\"\u001B[39;00m\n\u001B[32m--> \u001B[39m\u001B[32m909\u001B[39m     \u001B[38;5;28;43mself\u001B[39;49m\u001B[43m.\u001B[49m\u001B[43mdo_TJ\u001B[49m\u001B[43m(\u001B[49m\u001B[43m[\u001B[49m\u001B[43ms\u001B[49m\u001B[43m]\u001B[49m\u001B[43m)\u001B[49m\n\u001B[32m    910\u001B[39m     \u001B[38;5;28;01mreturn\u001B[39;00m\n",
      "\u001B[36mFile \u001B[39m\u001B[32m~\\miniconda3\\envs\\ESG_2025\\Lib\\site-packages\\pdfminer\\pdfinterp.py:902\u001B[39m, in \u001B[36mPDFPageInterpreter.do_TJ\u001B[39m\u001B[34m(self, seq)\u001B[39m\n\u001B[32m    900\u001B[39m     \u001B[38;5;28;01mreturn\u001B[39;00m\n\u001B[32m    901\u001B[39m \u001B[38;5;28;01massert\u001B[39;00m \u001B[38;5;28mself\u001B[39m.ncs \u001B[38;5;129;01mis\u001B[39;00m \u001B[38;5;129;01mnot\u001B[39;00m \u001B[38;5;28;01mNone\u001B[39;00m\n\u001B[32m--> \u001B[39m\u001B[32m902\u001B[39m \u001B[38;5;28;43mself\u001B[39;49m\u001B[43m.\u001B[49m\u001B[43mdevice\u001B[49m\u001B[43m.\u001B[49m\u001B[43mrender_string\u001B[49m\u001B[43m(\u001B[49m\n\u001B[32m    903\u001B[39m \u001B[43m    \u001B[49m\u001B[38;5;28;43mself\u001B[39;49m\u001B[43m.\u001B[49m\u001B[43mtextstate\u001B[49m\u001B[43m,\u001B[49m\u001B[43m \u001B[49m\u001B[43mcast\u001B[49m\u001B[43m(\u001B[49m\u001B[43mPDFTextSeq\u001B[49m\u001B[43m,\u001B[49m\u001B[43m \u001B[49m\u001B[43mseq\u001B[49m\u001B[43m)\u001B[49m\u001B[43m,\u001B[49m\u001B[43m \u001B[49m\u001B[38;5;28;43mself\u001B[39;49m\u001B[43m.\u001B[49m\u001B[43mncs\u001B[49m\u001B[43m,\u001B[49m\u001B[43m \u001B[49m\u001B[38;5;28;43mself\u001B[39;49m\u001B[43m.\u001B[49m\u001B[43mgraphicstate\u001B[49m\u001B[43m.\u001B[49m\u001B[43mcopy\u001B[49m\u001B[43m(\u001B[49m\u001B[43m)\u001B[49m\n\u001B[32m    904\u001B[39m \u001B[43m\u001B[49m\u001B[43m)\u001B[49m\n\u001B[32m    905\u001B[39m \u001B[38;5;28;01mreturn\u001B[39;00m\n",
      "\u001B[36mFile \u001B[39m\u001B[32m~\\miniconda3\\envs\\ESG_2025\\Lib\\site-packages\\pdfminer\\pdfdevice.py:133\u001B[39m, in \u001B[36mPDFTextDevice.render_string\u001B[39m\u001B[34m(self, textstate, seq, ncs, graphicstate)\u001B[39m\n\u001B[32m    118\u001B[39m     textstate.linematrix = \u001B[38;5;28mself\u001B[39m.render_string_vertical(\n\u001B[32m    119\u001B[39m         seq,\n\u001B[32m    120\u001B[39m         matrix,\n\u001B[32m   (...)\u001B[39m\u001B[32m    130\u001B[39m         graphicstate,\n\u001B[32m    131\u001B[39m     )\n\u001B[32m    132\u001B[39m \u001B[38;5;28;01melse\u001B[39;00m:\n\u001B[32m--> \u001B[39m\u001B[32m133\u001B[39m     textstate.linematrix = \u001B[38;5;28;43mself\u001B[39;49m\u001B[43m.\u001B[49m\u001B[43mrender_string_horizontal\u001B[49m\u001B[43m(\u001B[49m\n\u001B[32m    134\u001B[39m \u001B[43m        \u001B[49m\u001B[43mseq\u001B[49m\u001B[43m,\u001B[49m\n\u001B[32m    135\u001B[39m \u001B[43m        \u001B[49m\u001B[43mmatrix\u001B[49m\u001B[43m,\u001B[49m\n\u001B[32m    136\u001B[39m \u001B[43m        \u001B[49m\u001B[43mtextstate\u001B[49m\u001B[43m.\u001B[49m\u001B[43mlinematrix\u001B[49m\u001B[43m,\u001B[49m\n\u001B[32m    137\u001B[39m \u001B[43m        \u001B[49m\u001B[43mfont\u001B[49m\u001B[43m,\u001B[49m\n\u001B[32m    138\u001B[39m \u001B[43m        \u001B[49m\u001B[43mfontsize\u001B[49m\u001B[43m,\u001B[49m\n\u001B[32m    139\u001B[39m \u001B[43m        \u001B[49m\u001B[43mscaling\u001B[49m\u001B[43m,\u001B[49m\n\u001B[32m    140\u001B[39m \u001B[43m        \u001B[49m\u001B[43mcharspace\u001B[49m\u001B[43m,\u001B[49m\n\u001B[32m    141\u001B[39m \u001B[43m        \u001B[49m\u001B[43mwordspace\u001B[49m\u001B[43m,\u001B[49m\n\u001B[32m    142\u001B[39m \u001B[43m        \u001B[49m\u001B[43mrise\u001B[49m\u001B[43m,\u001B[49m\n\u001B[32m    143\u001B[39m \u001B[43m        \u001B[49m\u001B[43mdxscale\u001B[49m\u001B[43m,\u001B[49m\n\u001B[32m    144\u001B[39m \u001B[43m        \u001B[49m\u001B[43mncs\u001B[49m\u001B[43m,\u001B[49m\n\u001B[32m    145\u001B[39m \u001B[43m        \u001B[49m\u001B[43mgraphicstate\u001B[49m\u001B[43m,\u001B[49m\n\u001B[32m    146\u001B[39m \u001B[43m    \u001B[49m\u001B[43m)\u001B[49m\n",
      "\u001B[36mFile \u001B[39m\u001B[32m~\\miniconda3\\envs\\ESG_2025\\Lib\\site-packages\\pdfminer\\pdfdevice.py:173\u001B[39m, in \u001B[36mPDFTextDevice.render_string_horizontal\u001B[39m\u001B[34m(self, seq, matrix, pos, font, fontsize, scaling, charspace, wordspace, rise, dxscale, ncs, graphicstate)\u001B[39m\n\u001B[32m    171\u001B[39m \u001B[38;5;28;01mif\u001B[39;00m needcharspace:\n\u001B[32m    172\u001B[39m     x += charspace\n\u001B[32m--> \u001B[39m\u001B[32m173\u001B[39m x += \u001B[38;5;28;43mself\u001B[39;49m\u001B[43m.\u001B[49m\u001B[43mrender_char\u001B[49m\u001B[43m(\u001B[49m\n\u001B[32m    174\u001B[39m \u001B[43m    \u001B[49m\u001B[43mutils\u001B[49m\u001B[43m.\u001B[49m\u001B[43mtranslate_matrix\u001B[49m\u001B[43m(\u001B[49m\u001B[43mmatrix\u001B[49m\u001B[43m,\u001B[49m\u001B[43m \u001B[49m\u001B[43m(\u001B[49m\u001B[43mx\u001B[49m\u001B[43m,\u001B[49m\u001B[43m \u001B[49m\u001B[43my\u001B[49m\u001B[43m)\u001B[49m\u001B[43m)\u001B[49m\u001B[43m,\u001B[49m\n\u001B[32m    175\u001B[39m \u001B[43m    \u001B[49m\u001B[43mfont\u001B[49m\u001B[43m,\u001B[49m\n\u001B[32m    176\u001B[39m \u001B[43m    \u001B[49m\u001B[43mfontsize\u001B[49m\u001B[43m,\u001B[49m\n\u001B[32m    177\u001B[39m \u001B[43m    \u001B[49m\u001B[43mscaling\u001B[49m\u001B[43m,\u001B[49m\n\u001B[32m    178\u001B[39m \u001B[43m    \u001B[49m\u001B[43mrise\u001B[49m\u001B[43m,\u001B[49m\n\u001B[32m    179\u001B[39m \u001B[43m    \u001B[49m\u001B[43mcid\u001B[49m\u001B[43m,\u001B[49m\n\u001B[32m    180\u001B[39m \u001B[43m    \u001B[49m\u001B[43mncs\u001B[49m\u001B[43m,\u001B[49m\n\u001B[32m    181\u001B[39m \u001B[43m    \u001B[49m\u001B[43mgraphicstate\u001B[49m\u001B[43m,\u001B[49m\n\u001B[32m    182\u001B[39m \u001B[43m\u001B[49m\u001B[43m)\u001B[49m\n\u001B[32m    183\u001B[39m \u001B[38;5;28;01mif\u001B[39;00m cid == \u001B[32m32\u001B[39m \u001B[38;5;129;01mand\u001B[39;00m wordspace:\n\u001B[32m    184\u001B[39m     x += wordspace\n",
      "\u001B[36mFile \u001B[39m\u001B[32m~\\miniconda3\\envs\\ESG_2025\\Lib\\site-packages\\pdfplumber\\page.py:167\u001B[39m, in \u001B[36mPDFPageAggregatorWithMarkedContent.render_char\u001B[39m\u001B[34m(self, *args, **kwargs)\u001B[39m\n\u001B[32m    165\u001B[39m \u001B[38;5;28;01mdef\u001B[39;00m\u001B[38;5;250m \u001B[39m\u001B[34mrender_char\u001B[39m(\u001B[38;5;28mself\u001B[39m, *args, **kwargs) -> \u001B[38;5;28mfloat\u001B[39m:  \u001B[38;5;66;03m# type: ignore\u001B[39;00m\n\u001B[32m    166\u001B[39m \u001B[38;5;250m    \u001B[39m\u001B[33;03m\"\"\"Hook for rendering characters, adding the `mcid` attribute.\"\"\"\u001B[39;00m\n\u001B[32m--> \u001B[39m\u001B[32m167\u001B[39m     adv = \u001B[38;5;28;43msuper\u001B[39;49m\u001B[43m(\u001B[49m\u001B[43m)\u001B[49m\u001B[43m.\u001B[49m\u001B[43mrender_char\u001B[49m\u001B[43m(\u001B[49m\u001B[43m*\u001B[49m\u001B[43margs\u001B[49m\u001B[43m,\u001B[49m\u001B[43m \u001B[49m\u001B[43m*\u001B[49m\u001B[43m*\u001B[49m\u001B[43mkwargs\u001B[49m\u001B[43m)\u001B[49m\n\u001B[32m    168\u001B[39m     \u001B[38;5;28mself\u001B[39m.tag_cur_item()\n\u001B[32m    169\u001B[39m     \u001B[38;5;28;01mreturn\u001B[39;00m adv\n",
      "\u001B[36mFile \u001B[39m\u001B[32m~\\miniconda3\\envs\\ESG_2025\\Lib\\site-packages\\pdfminer\\converter.py:220\u001B[39m, in \u001B[36mPDFLayoutAnalyzer.render_char\u001B[39m\u001B[34m(self, matrix, font, fontsize, scaling, rise, cid, ncs, graphicstate)\u001B[39m\n\u001B[32m    207\u001B[39m             curve = LTCurve(\n\u001B[32m    208\u001B[39m                 gstate.linewidth,\n\u001B[32m    209\u001B[39m                 pts,\n\u001B[32m   (...)\u001B[39m\u001B[32m    216\u001B[39m                 gstate.dash,\n\u001B[32m    217\u001B[39m             )\n\u001B[32m    218\u001B[39m             \u001B[38;5;28mself\u001B[39m.cur_item.add(curve)\n\u001B[32m--> \u001B[39m\u001B[32m220\u001B[39m \u001B[38;5;28;01mdef\u001B[39;00m\u001B[38;5;250m \u001B[39m\u001B[34mrender_char\u001B[39m(\n\u001B[32m    221\u001B[39m     \u001B[38;5;28mself\u001B[39m,\n\u001B[32m    222\u001B[39m     matrix: Matrix,\n\u001B[32m    223\u001B[39m     font: PDFFont,\n\u001B[32m    224\u001B[39m     fontsize: \u001B[38;5;28mfloat\u001B[39m,\n\u001B[32m    225\u001B[39m     scaling: \u001B[38;5;28mfloat\u001B[39m,\n\u001B[32m    226\u001B[39m     rise: \u001B[38;5;28mfloat\u001B[39m,\n\u001B[32m    227\u001B[39m     cid: \u001B[38;5;28mint\u001B[39m,\n\u001B[32m    228\u001B[39m     ncs: PDFColorSpace,\n\u001B[32m    229\u001B[39m     graphicstate: PDFGraphicState,\n\u001B[32m    230\u001B[39m ) -> \u001B[38;5;28mfloat\u001B[39m:\n\u001B[32m    231\u001B[39m     \u001B[38;5;28;01mtry\u001B[39;00m:\n\u001B[32m    232\u001B[39m         text = font.to_unichr(cid)\n",
      "\u001B[31mKeyboardInterrupt\u001B[39m: "
     ]
    }
   ],
   "execution_count": 5
  },
  {
   "metadata": {
    "ExecuteTime": {
     "end_time": "2025-03-16T15:04:38.519327Z",
     "start_time": "2025-03-16T15:04:25.682972Z"
    }
   },
   "cell_type": "code",
   "source": [
    "def combine_csv_files(file_list, output_csv):\n",
    "    \"\"\"Объединяет несколько CSV файлов в один.\"\"\"\n",
    "    combined_df = pd.concat([pd.read_csv(f) for f in file_list], ignore_index=True)\n",
    "    combined_df.to_csv(output_csv, index=False, encoding='utf-8')\n",
    "    print(f\"Все этапы завершены. Итоговый файл сохранен в {output_csv}\")\n",
    "\n",
    "file_list = ['результат_stage1.csv','результат_stage2.csv','результат_stage3.csv','результат_stage4.csv']\n",
    "\n",
    "combine_csv_files(file_list, output_csv)"
   ],
   "id": "2d0568191ce6222c",
   "outputs": [
    {
     "name": "stdout",
     "output_type": "stream",
     "text": [
      "Все этапы завершены. Итоговый файл сохранен в результат.csv\n"
     ]
    }
   ],
   "execution_count": 7
  },
  {
   "metadata": {
    "ExecuteTime": {
     "end_time": "2025-03-19T13:51:22.563409Z",
     "start_time": "2025-03-19T13:51:14.790125Z"
    }
   },
   "cell_type": "code",
   "source": "rspp_data = pd.read_csv('результат.csv')",
   "id": "7ea1af24a3a87fbb",
   "outputs": [],
   "execution_count": 3
  },
  {
   "metadata": {
    "ExecuteTime": {
     "end_time": "2025-03-19T13:51:22.576390Z",
     "start_time": "2025-03-19T13:51:22.570312Z"
    }
   },
   "cell_type": "code",
   "source": "rspp_clean = rspp_data.dropna()",
   "id": "d94bcf42c2f65d44",
   "outputs": [],
   "execution_count": 4
  },
  {
   "metadata": {},
   "cell_type": "markdown",
   "source": "## По параграфам",
   "id": "32e439aad8d3a2bf"
  },
  {
   "metadata": {
    "ExecuteTime": {
     "end_time": "2025-03-19T13:51:43.813813Z",
     "start_time": "2025-03-19T13:51:38.815192Z"
    }
   },
   "cell_type": "code",
   "source": "!pip install pymorphy3 nltk",
   "id": "5c5bc518f07973c",
   "outputs": [
    {
     "name": "stdout",
     "output_type": "stream",
     "text": [
      "Requirement already satisfied: pymorphy3 in c:\\users\\waksi\\pycharmprojects\\esg_2025\\venv\\lib\\site-packages (2.0.3)\n",
      "Collecting nltk\n",
      "  Obtaining dependency information for nltk from https://files.pythonhosted.org/packages/4d/66/7d9e26593edda06e8cb531874633f7c2372279c3b0f46235539fe546df8b/nltk-3.9.1-py3-none-any.whl.metadata\n",
      "  Downloading nltk-3.9.1-py3-none-any.whl.metadata (2.9 kB)\n",
      "Requirement already satisfied: dawg2-python>=0.8.0 in c:\\users\\waksi\\pycharmprojects\\esg_2025\\venv\\lib\\site-packages (from pymorphy3) (0.9.0)\n",
      "Requirement already satisfied: pymorphy3-dicts-ru in c:\\users\\waksi\\pycharmprojects\\esg_2025\\venv\\lib\\site-packages (from pymorphy3) (2.4.417150.4580142)\n",
      "Collecting click (from nltk)\n",
      "  Obtaining dependency information for click from https://files.pythonhosted.org/packages/7e/d4/7ebdbd03970677812aac39c869717059dbb71a4cfc033ca6e5221787892c/click-8.1.8-py3-none-any.whl.metadata\n",
      "  Downloading click-8.1.8-py3-none-any.whl.metadata (2.3 kB)\n",
      "Collecting joblib (from nltk)\n",
      "  Obtaining dependency information for joblib from https://files.pythonhosted.org/packages/91/29/df4b9b42f2be0b623cbd5e2140cafcaa2bef0759a00b7b70104dcfe2fb51/joblib-1.4.2-py3-none-any.whl.metadata\n",
      "  Downloading joblib-1.4.2-py3-none-any.whl.metadata (5.4 kB)\n",
      "Collecting regex>=2021.8.3 (from nltk)\n",
      "  Obtaining dependency information for regex>=2021.8.3 from https://files.pythonhosted.org/packages/80/32/763a6cc01d21fb3819227a1cc3f60fd251c13c37c27a73b8ff4315433a8e/regex-2024.11.6-cp311-cp311-win_amd64.whl.metadata\n",
      "  Downloading regex-2024.11.6-cp311-cp311-win_amd64.whl.metadata (41 kB)\n",
      "     ---------------------------------------- 0.0/41.5 kB ? eta -:--:--\n",
      "     ---------------------------- --------- 30.7/41.5 kB 660.6 kB/s eta 0:00:01\n",
      "     -------------------------------------- 41.5/41.5 kB 666.1 kB/s eta 0:00:00\n",
      "Requirement already satisfied: tqdm in c:\\users\\waksi\\pycharmprojects\\esg_2025\\venv\\lib\\site-packages (from nltk) (4.67.1)\n",
      "Requirement already satisfied: colorama in c:\\users\\waksi\\pycharmprojects\\esg_2025\\venv\\lib\\site-packages (from click->nltk) (0.4.6)\n",
      "Downloading nltk-3.9.1-py3-none-any.whl (1.5 MB)\n",
      "   ---------------------------------------- 0.0/1.5 MB ? eta -:--:--\n",
      "   - -------------------------------------- 0.1/1.5 MB 1.3 MB/s eta 0:00:02\n",
      "   ----- ---------------------------------- 0.2/1.5 MB 2.2 MB/s eta 0:00:01\n",
      "   ------------- -------------------------- 0.5/1.5 MB 3.6 MB/s eta 0:00:01\n",
      "   ---------------------------- ----------- 1.1/1.5 MB 5.7 MB/s eta 0:00:01\n",
      "   ---------------------------------------- 1.5/1.5 MB 7.4 MB/s eta 0:00:00\n",
      "Downloading regex-2024.11.6-cp311-cp311-win_amd64.whl (274 kB)\n",
      "   ---------------------------------------- 0.0/274.1 kB ? eta -:--:--\n",
      "   ---------------------------------------- 274.1/274.1 kB ? eta 0:00:00\n",
      "Downloading click-8.1.8-py3-none-any.whl (98 kB)\n",
      "   ---------------------------------------- 0.0/98.2 kB ? eta -:--:--\n",
      "   ---------------------------------------- 98.2/98.2 kB ? eta 0:00:00\n",
      "Downloading joblib-1.4.2-py3-none-any.whl (301 kB)\n",
      "   ---------------------------------------- 0.0/301.8 kB ? eta -:--:--\n",
      "   --------------------------------------- 301.8/301.8 kB 19.4 MB/s eta 0:00:00\n",
      "Installing collected packages: regex, joblib, click, nltk\n",
      "Successfully installed click-8.1.8 joblib-1.4.2 nltk-3.9.1 regex-2024.11.6\n"
     ]
    },
    {
     "name": "stderr",
     "output_type": "stream",
     "text": [
      "\n",
      "[notice] A new release of pip is available: 23.2.1 -> 25.0.1\n",
      "[notice] To update, run: python.exe -m pip install --upgrade pip\n"
     ]
    }
   ],
   "execution_count": 7
  },
  {
   "metadata": {
    "ExecuteTime": {
     "end_time": "2025-03-19T13:51:50.240335Z",
     "start_time": "2025-03-19T13:51:49.969443Z"
    }
   },
   "cell_type": "code",
   "source": [
    "from nltk.corpus import stopwords\n",
    "from nltk.tokenize import word_tokenize\n",
    "import nltk\n",
    "from pymorphy3 import MorphAnalyzer\n",
    "import re\n",
    "morph = MorphAnalyzer()"
   ],
   "id": "243655e5124931f4",
   "outputs": [],
   "execution_count": 8
  },
  {
   "metadata": {
    "ExecuteTime": {
     "end_time": "2025-03-19T13:51:54.863224Z",
     "start_time": "2025-03-19T13:51:54.404956Z"
    }
   },
   "cell_type": "code",
   "source": [
    "# Загрузка стоп-слов\n",
    "nltk.download(\"stopwords\")\n",
    "stopwords_ru = set(stopwords.words(\"russian\"))\n",
    "\n",
    "# Регулярные выражения\n",
    "RE_DERIVED = re.compile(r\"\\w+( -|- |-|! - )\\w+\")\n",
    "RE_RUSSIAN_TEXT = re.compile(r\"[а-яА-Яa-zA-Z0-9\\-]+\")\n",
    "\n",
    "# Инициализация морфологического анализатора\n",
    "morph = MorphAnalyzer()\n",
    "\n"
   ],
   "id": "fdcd2c2e119046a0",
   "outputs": [
    {
     "name": "stderr",
     "output_type": "stream",
     "text": [
      "[nltk_data] Downloading package stopwords to\n",
      "[nltk_data]     C:\\Users\\waksi\\AppData\\Roaming\\nltk_data...\n",
      "[nltk_data]   Unzipping corpora\\stopwords.zip.\n"
     ]
    }
   ],
   "execution_count": 9
  },
  {
   "metadata": {
    "ExecuteTime": {
     "end_time": "2025-03-19T14:07:07.006403Z",
     "start_time": "2025-03-19T14:07:06.999817Z"
    }
   },
   "cell_type": "code",
   "source": [
    "def preprocess_text(text):\n",
    "    paragraphs = text.split(\"\\n\")\n",
    "    processed_paragraphs = []\n",
    "    \n",
    "    for i, para in enumerate(paragraphs):\n",
    "        words = RE_RUSSIAN_TEXT.findall(para)\n",
    "        words = [morph.parse(word.lower())[0].normal_form for word in words if word.lower() not in stopwords_ru]\n",
    "        para_processed = \" \".join(words)\n",
    "        processed_paragraphs.append((i + 1, para_processed))\n",
    "    \n",
    "    return processed_paragraphs\n",
    "\n",
    "def process_dataframe(df, stage=4):\n",
    "    if \"Текст\" not in df.columns:\n",
    "        raise ValueError(\"В DataFrame должен быть столбец 'Текст'\")\n",
    "    \n",
    "    total_rows = len(df)\n",
    "    chunk_size = total_rows // stage + (total_rows % stage > 0)\n",
    "    all_data = []\n",
    "    \n",
    "    for i in range(stage):\n",
    "        start = i * chunk_size\n",
    "        end = min((i + 1) * chunk_size, total_rows)\n",
    "        print(f\"Этап {i+1}/{stage}: обработка строк {start+1} - {end}\")\n",
    "        \n",
    "        for index, row in tqdm(df.iloc[start:end].iterrows(), total=end-start, desc=f\"Этап {i+1}\"):\n",
    "            paragraphs = preprocess_text(row[\"Текст\"])\n",
    "            temp_df = pd.DataFrame(paragraphs, columns=[\"Номер параграфа\", \"Параграф\"])\n",
    "            temp_df.insert(0, \"Название файла\", row.get(\"Название файла\", f\"Строка_{index+1}\"))\n",
    "            all_data.append(temp_df)\n",
    "    \n",
    "    return pd.concat(all_data, ignore_index=True)"
   ],
   "id": "1b1a4892f35a804a",
   "outputs": [],
   "execution_count": 10
  },
  {
   "metadata": {
    "ExecuteTime": {
     "end_time": "2025-03-19T14:59:49.961041Z",
     "start_time": "2025-03-19T14:07:09.057068Z"
    }
   },
   "cell_type": "code",
   "source": "df_result = process_dataframe(rspp_clean)",
   "id": "a054911b1649d959",
   "outputs": [
    {
     "name": "stdout",
     "output_type": "stream",
     "text": [
      "Этап 1/4: обработка строк 1 - 332\n"
     ]
    },
    {
     "name": "stderr",
     "output_type": "stream",
     "text": [
      "Этап 1: 100%|██████████| 332/332 [07:02<00:00,  1.27s/it]\n"
     ]
    },
    {
     "name": "stdout",
     "output_type": "stream",
     "text": [
      "Этап 2/4: обработка строк 333 - 664\n"
     ]
    },
    {
     "name": "stderr",
     "output_type": "stream",
     "text": [
      "Этап 2: 100%|██████████| 332/332 [11:14<00:00,  2.03s/it]\n"
     ]
    },
    {
     "name": "stdout",
     "output_type": "stream",
     "text": [
      "Этап 3/4: обработка строк 665 - 996\n"
     ]
    },
    {
     "name": "stderr",
     "output_type": "stream",
     "text": [
      "Этап 3: 100%|██████████| 332/332 [16:56<00:00,  3.06s/it]\n"
     ]
    },
    {
     "name": "stdout",
     "output_type": "stream",
     "text": [
      "Этап 4/4: обработка строк 997 - 1326\n"
     ]
    },
    {
     "name": "stderr",
     "output_type": "stream",
     "text": [
      "Этап 4: 100%|██████████| 330/330 [17:26<00:00,  3.17s/it]\n"
     ]
    }
   ],
   "execution_count": 11
  },
  {
   "metadata": {
    "ExecuteTime": {
     "end_time": "2025-03-19T15:20:13.040055Z",
     "start_time": "2025-03-19T15:20:13.032911Z"
    }
   },
   "cell_type": "code",
   "source": "df_result.tail()\n",
   "id": "480f279b4824eed1",
   "outputs": [
    {
     "data": {
      "text/plain": [
       "          Название файла  Номер параграфа  \\\n",
       "6782007  2023_Яндекс.pdf             4236   \n",
       "6782008  2023_Яндекс.pdf             4237   \n",
       "6782009  2023_Яндекс.pdf             4238   \n",
       "6782010  2023_Яндекс.pdf             4239   \n",
       "6782011  2023_Яндекс.pdf             4240   \n",
       "\n",
       "                                                  Параграф  \n",
       "6782007  яндекс деловой партн ры яндекс деловой партн р...  \n",
       "6782008                            яндекс деловой партн ры  \n",
       "6782009  акционер инвестор акционер инвестор акционер и...  \n",
       "6782010                                  акционер инвестор  \n",
       "6782011                                                 97  "
      ],
      "text/html": [
       "<div>\n",
       "<style scoped>\n",
       "    .dataframe tbody tr th:only-of-type {\n",
       "        vertical-align: middle;\n",
       "    }\n",
       "\n",
       "    .dataframe tbody tr th {\n",
       "        vertical-align: top;\n",
       "    }\n",
       "\n",
       "    .dataframe thead th {\n",
       "        text-align: right;\n",
       "    }\n",
       "</style>\n",
       "<table border=\"1\" class=\"dataframe\">\n",
       "  <thead>\n",
       "    <tr style=\"text-align: right;\">\n",
       "      <th></th>\n",
       "      <th>Название файла</th>\n",
       "      <th>Номер параграфа</th>\n",
       "      <th>Параграф</th>\n",
       "    </tr>\n",
       "  </thead>\n",
       "  <tbody>\n",
       "    <tr>\n",
       "      <th>6782007</th>\n",
       "      <td>2023_Яндекс.pdf</td>\n",
       "      <td>4236</td>\n",
       "      <td>яндекс деловой партн ры яндекс деловой партн р...</td>\n",
       "    </tr>\n",
       "    <tr>\n",
       "      <th>6782008</th>\n",
       "      <td>2023_Яндекс.pdf</td>\n",
       "      <td>4237</td>\n",
       "      <td>яндекс деловой партн ры</td>\n",
       "    </tr>\n",
       "    <tr>\n",
       "      <th>6782009</th>\n",
       "      <td>2023_Яндекс.pdf</td>\n",
       "      <td>4238</td>\n",
       "      <td>акционер инвестор акционер инвестор акционер и...</td>\n",
       "    </tr>\n",
       "    <tr>\n",
       "      <th>6782010</th>\n",
       "      <td>2023_Яндекс.pdf</td>\n",
       "      <td>4239</td>\n",
       "      <td>акционер инвестор</td>\n",
       "    </tr>\n",
       "    <tr>\n",
       "      <th>6782011</th>\n",
       "      <td>2023_Яндекс.pdf</td>\n",
       "      <td>4240</td>\n",
       "      <td>97</td>\n",
       "    </tr>\n",
       "  </tbody>\n",
       "</table>\n",
       "</div>"
      ]
     },
     "execution_count": 17,
     "metadata": {},
     "output_type": "execute_result"
    }
   ],
   "execution_count": 17
  },
  {
   "metadata": {
    "ExecuteTime": {
     "end_time": "2025-03-19T15:21:50.954460Z",
     "start_time": "2025-03-19T15:21:32.812605Z"
    }
   },
   "cell_type": "code",
   "source": "df_result.to_csv('paragraphs.csv')",
   "id": "2f14f9d518027c51",
   "outputs": [],
   "execution_count": 19
  }
 ],
 "metadata": {
  "kernelspec": {
   "display_name": "Python 3",
   "language": "python",
   "name": "python3"
  },
  "language_info": {
   "codemirror_mode": {
    "name": "ipython",
    "version": 2
   },
   "file_extension": ".py",
   "mimetype": "text/x-python",
   "name": "python",
   "nbconvert_exporter": "python",
   "pygments_lexer": "ipython2",
   "version": "2.7.6"
  }
 },
 "nbformat": 4,
 "nbformat_minor": 5
}
